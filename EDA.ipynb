{
  "cells": [
    {
      "cell_type": "markdown",
      "metadata": {
        "id": "view-in-github",
        "colab_type": "text"
      },
      "source": [
        "<a href=\"https://colab.research.google.com/github/krylov-sergey-sergeevich/ML-Practice/blob/main/EDA.ipynb\" target=\"_parent\"><img src=\"https://colab.research.google.com/assets/colab-badge.svg\" alt=\"Open In Colab\"/></a>"
      ]
    },
    {
      "cell_type": "markdown",
      "metadata": {
        "id": "uo6UDQLGO6iT"
      },
      "source": [
        "# Разведочный анализ данных"
      ]
    },
    {
      "cell_type": "markdown",
      "source": [
        "Это задание посвящено изучению данных и построению различных визуализаций.  \n",
        "Наша цель - провести **разведочный анализ данных**, чтобы исследовать поведение данных и выявить в них закономерности.\n",
        "\n",
        "Мы будем работать с датассетом пассажиров [Титаника](https://en.wikipedia.org/wiki/Titanic).\n",
        "\n",
        "Классическая задача, решаемая на этих данных: предсказать, выжил пассажир или нет по его характеристикам.  \n",
        "То есть целевая переменная - столбец `Survived`.\n",
        "\n",
        "Цели:\n",
        "* познакомиться с библиотекой `seaborn`\n",
        "* научиться делать различные визуализации\n",
        "* заполнять пропуски в данных\n",
        "* делать однофакторный анализ\n",
        "* конструировать новые признаки\n",
        "\n",
        "Бонус:\n",
        "* придумаем свою модель на основе проведенного анализа и оценим ее качество."
      ],
      "metadata": {
        "id": "JYZYBWlme2Mt"
      }
    },
    {
      "cell_type": "markdown",
      "source": [
        "## Подключение библиотек и загрузка данных"
      ],
      "metadata": {
        "id": "V7pJVJPEdFv3"
      }
    },
    {
      "cell_type": "code",
      "execution_count": null,
      "metadata": {
        "id": "zHSrDNVcO6io"
      },
      "outputs": [],
      "source": [
        "import pandas as pd\n",
        "import numpy as np\n",
        "import seaborn as sns\n",
        "\n",
        "from matplotlib import pyplot as plt"
      ]
    },
    {
      "cell_type": "markdown",
      "source": [
        "Фиксируем `random_state` для воспроизводимости случайных значений."
      ],
      "metadata": {
        "id": "_EtAjolyd1Iw"
      }
    },
    {
      "cell_type": "code",
      "source": [
        "RANDOM_STATE = 42"
      ],
      "metadata": {
        "id": "NFm7sgC-d4Oy"
      },
      "execution_count": null,
      "outputs": []
    },
    {
      "cell_type": "markdown",
      "metadata": {
        "id": "vnIXEza6O6iw"
      },
      "source": [
        "Загрузим данные."
      ]
    },
    {
      "cell_type": "code",
      "execution_count": null,
      "metadata": {
        "id": "Ik1WWZP2O6iz"
      },
      "outputs": [],
      "source": [
        "Data = pd.read_csv(\n",
        "    \"https://raw.githubusercontent.com/evgpat/edu_stepik_practical_ml/main/datasets/titanik.csv\",\n",
        "    sep=\";\"\n",
        "    )"
      ]
    },
    {
      "cell_type": "markdown",
      "source": [
        "**Описание признаков**\n",
        "\n",
        "- `Survived` — выжил данный пассажир или нет (*0* для умерших, *1* для выживших)\n",
        "- `Pclass` — класс пассажира (*1* — высший, *2* — средний, *3* — низший)\n",
        "- `Name` — имя\n",
        "- `Sex` — пол\n",
        "- `Age` — возраст\n",
        "- `SibSp` — количество братьев, сестер, сводных братьев, сводных сестер, супругов на борту титаника\n",
        "- `Parch` — количество родителей, детей (в том числе приемных) на борту титаника\n",
        "- `Ticket` — номер билета\n",
        "- `Fare` — плата за проезд\n",
        "- `Cabin` — каюта\n",
        "- `Embarked` — порт посадки (*C* — Шербур; *Q* — Квинстаун; *S* — Саутгемптон)"
      ],
      "metadata": {
        "id": "VEbO6CtV2vO4"
      }
    },
    {
      "cell_type": "markdown",
      "source": [
        "## Обзор данных"
      ],
      "metadata": {
        "id": "-wQycDe2dVdo"
      }
    },
    {
      "cell_type": "markdown",
      "source": [
        "Посмотрим на *5* случайных объектов из датасета."
      ],
      "metadata": {
        "id": "pYRFo5yMdZlG"
      }
    },
    {
      "cell_type": "code",
      "source": [
        "Data.sample(5)"
      ],
      "metadata": {
        "id": "oBBB9sEwdgyQ"
      },
      "execution_count": null,
      "outputs": []
    },
    {
      "cell_type": "markdown",
      "metadata": {
        "id": "XYGXcMZoO6i1"
      },
      "source": [
        "Выведите на экран размеры таблицы *Data*.\n",
        "\n",
        "**Вопрос:** сколько объектов в данных?"
      ]
    },
    {
      "cell_type": "code",
      "execution_count": null,
      "metadata": {
        "id": "5VS5zcysO6i3"
      },
      "outputs": [],
      "source": [
        "# ваш код здесь"
      ]
    },
    {
      "cell_type": "markdown",
      "metadata": {
        "id": "X9ql0GjNO6i5"
      },
      "source": [
        "## Обработка признаков и однофакторный анализ"
      ]
    },
    {
      "cell_type": "markdown",
      "source": [
        "На данном этапе:\n",
        "\n",
        "1) Найдем признаки, у которых есть пропущенные значения и обработаем эти пропущенные значения\n",
        "\n",
        "2) Переведём категориальные признаки в числовые"
      ],
      "metadata": {
        "id": "LamgVWt9gedB"
      }
    },
    {
      "cell_type": "markdown",
      "metadata": {
        "id": "tbkHQ7f_O6i9"
      },
      "source": [
        "Выведем на экран основные числовые характеристики числовых столбцов.  \n",
        "Это можно сделать при помощи функции `describe`."
      ]
    },
    {
      "cell_type": "code",
      "execution_count": null,
      "metadata": {
        "id": "DnasgMQDO6jB",
        "colab": {
          "base_uri": "https://localhost:8080/",
          "height": 300
        },
        "outputId": "2b5e7448-9958-4bb6-a586-449118d73192"
      },
      "outputs": [
        {
          "output_type": "execute_result",
          "data": {
            "text/plain": [
              "       PassengerId    Survived      Pclass         Age       SibSp  \\\n",
              "count   891.000000  891.000000  891.000000  714.000000  891.000000   \n",
              "mean    446.000000    0.383838    2.308642   29.699118    0.523008   \n",
              "std     257.353842    0.486592    0.836071   14.526497    1.102743   \n",
              "min       1.000000    0.000000    1.000000    0.420000    0.000000   \n",
              "25%     223.500000    0.000000    2.000000   20.125000    0.000000   \n",
              "50%     446.000000    0.000000    3.000000   28.000000    0.000000   \n",
              "75%     668.500000    1.000000    3.000000   38.000000    1.000000   \n",
              "max     891.000000    1.000000    3.000000   80.000000    8.000000   \n",
              "\n",
              "            Parch        Fare  \n",
              "count  891.000000  891.000000  \n",
              "mean     0.381594   32.204208  \n",
              "std      0.806057   49.693429  \n",
              "min      0.000000    0.000000  \n",
              "25%      0.000000    7.910400  \n",
              "50%      0.000000   14.454200  \n",
              "75%      0.000000   31.000000  \n",
              "max      6.000000  512.329200  "
            ],
            "text/html": [
              "\n",
              "  <div id=\"df-1885aef5-89f8-4ef8-8949-da4e31ef54ae\">\n",
              "    <div class=\"colab-df-container\">\n",
              "      <div>\n",
              "<style scoped>\n",
              "    .dataframe tbody tr th:only-of-type {\n",
              "        vertical-align: middle;\n",
              "    }\n",
              "\n",
              "    .dataframe tbody tr th {\n",
              "        vertical-align: top;\n",
              "    }\n",
              "\n",
              "    .dataframe thead th {\n",
              "        text-align: right;\n",
              "    }\n",
              "</style>\n",
              "<table border=\"1\" class=\"dataframe\">\n",
              "  <thead>\n",
              "    <tr style=\"text-align: right;\">\n",
              "      <th></th>\n",
              "      <th>PassengerId</th>\n",
              "      <th>Survived</th>\n",
              "      <th>Pclass</th>\n",
              "      <th>Age</th>\n",
              "      <th>SibSp</th>\n",
              "      <th>Parch</th>\n",
              "      <th>Fare</th>\n",
              "    </tr>\n",
              "  </thead>\n",
              "  <tbody>\n",
              "    <tr>\n",
              "      <th>count</th>\n",
              "      <td>891.000000</td>\n",
              "      <td>891.000000</td>\n",
              "      <td>891.000000</td>\n",
              "      <td>714.000000</td>\n",
              "      <td>891.000000</td>\n",
              "      <td>891.000000</td>\n",
              "      <td>891.000000</td>\n",
              "    </tr>\n",
              "    <tr>\n",
              "      <th>mean</th>\n",
              "      <td>446.000000</td>\n",
              "      <td>0.383838</td>\n",
              "      <td>2.308642</td>\n",
              "      <td>29.699118</td>\n",
              "      <td>0.523008</td>\n",
              "      <td>0.381594</td>\n",
              "      <td>32.204208</td>\n",
              "    </tr>\n",
              "    <tr>\n",
              "      <th>std</th>\n",
              "      <td>257.353842</td>\n",
              "      <td>0.486592</td>\n",
              "      <td>0.836071</td>\n",
              "      <td>14.526497</td>\n",
              "      <td>1.102743</td>\n",
              "      <td>0.806057</td>\n",
              "      <td>49.693429</td>\n",
              "    </tr>\n",
              "    <tr>\n",
              "      <th>min</th>\n",
              "      <td>1.000000</td>\n",
              "      <td>0.000000</td>\n",
              "      <td>1.000000</td>\n",
              "      <td>0.420000</td>\n",
              "      <td>0.000000</td>\n",
              "      <td>0.000000</td>\n",
              "      <td>0.000000</td>\n",
              "    </tr>\n",
              "    <tr>\n",
              "      <th>25%</th>\n",
              "      <td>223.500000</td>\n",
              "      <td>0.000000</td>\n",
              "      <td>2.000000</td>\n",
              "      <td>20.125000</td>\n",
              "      <td>0.000000</td>\n",
              "      <td>0.000000</td>\n",
              "      <td>7.910400</td>\n",
              "    </tr>\n",
              "    <tr>\n",
              "      <th>50%</th>\n",
              "      <td>446.000000</td>\n",
              "      <td>0.000000</td>\n",
              "      <td>3.000000</td>\n",
              "      <td>28.000000</td>\n",
              "      <td>0.000000</td>\n",
              "      <td>0.000000</td>\n",
              "      <td>14.454200</td>\n",
              "    </tr>\n",
              "    <tr>\n",
              "      <th>75%</th>\n",
              "      <td>668.500000</td>\n",
              "      <td>1.000000</td>\n",
              "      <td>3.000000</td>\n",
              "      <td>38.000000</td>\n",
              "      <td>1.000000</td>\n",
              "      <td>0.000000</td>\n",
              "      <td>31.000000</td>\n",
              "    </tr>\n",
              "    <tr>\n",
              "      <th>max</th>\n",
              "      <td>891.000000</td>\n",
              "      <td>1.000000</td>\n",
              "      <td>3.000000</td>\n",
              "      <td>80.000000</td>\n",
              "      <td>8.000000</td>\n",
              "      <td>6.000000</td>\n",
              "      <td>512.329200</td>\n",
              "    </tr>\n",
              "  </tbody>\n",
              "</table>\n",
              "</div>\n",
              "      <button class=\"colab-df-convert\" onclick=\"convertToInteractive('df-1885aef5-89f8-4ef8-8949-da4e31ef54ae')\"\n",
              "              title=\"Convert this dataframe to an interactive table.\"\n",
              "              style=\"display:none;\">\n",
              "        \n",
              "  <svg xmlns=\"http://www.w3.org/2000/svg\" height=\"24px\"viewBox=\"0 0 24 24\"\n",
              "       width=\"24px\">\n",
              "    <path d=\"M0 0h24v24H0V0z\" fill=\"none\"/>\n",
              "    <path d=\"M18.56 5.44l.94 2.06.94-2.06 2.06-.94-2.06-.94-.94-2.06-.94 2.06-2.06.94zm-11 1L8.5 8.5l.94-2.06 2.06-.94-2.06-.94L8.5 2.5l-.94 2.06-2.06.94zm10 10l.94 2.06.94-2.06 2.06-.94-2.06-.94-.94-2.06-.94 2.06-2.06.94z\"/><path d=\"M17.41 7.96l-1.37-1.37c-.4-.4-.92-.59-1.43-.59-.52 0-1.04.2-1.43.59L10.3 9.45l-7.72 7.72c-.78.78-.78 2.05 0 2.83L4 21.41c.39.39.9.59 1.41.59.51 0 1.02-.2 1.41-.59l7.78-7.78 2.81-2.81c.8-.78.8-2.07 0-2.86zM5.41 20L4 18.59l7.72-7.72 1.47 1.35L5.41 20z\"/>\n",
              "  </svg>\n",
              "      </button>\n",
              "      \n",
              "  <style>\n",
              "    .colab-df-container {\n",
              "      display:flex;\n",
              "      flex-wrap:wrap;\n",
              "      gap: 12px;\n",
              "    }\n",
              "\n",
              "    .colab-df-convert {\n",
              "      background-color: #E8F0FE;\n",
              "      border: none;\n",
              "      border-radius: 50%;\n",
              "      cursor: pointer;\n",
              "      display: none;\n",
              "      fill: #1967D2;\n",
              "      height: 32px;\n",
              "      padding: 0 0 0 0;\n",
              "      width: 32px;\n",
              "    }\n",
              "\n",
              "    .colab-df-convert:hover {\n",
              "      background-color: #E2EBFA;\n",
              "      box-shadow: 0px 1px 2px rgba(60, 64, 67, 0.3), 0px 1px 3px 1px rgba(60, 64, 67, 0.15);\n",
              "      fill: #174EA6;\n",
              "    }\n",
              "\n",
              "    [theme=dark] .colab-df-convert {\n",
              "      background-color: #3B4455;\n",
              "      fill: #D2E3FC;\n",
              "    }\n",
              "\n",
              "    [theme=dark] .colab-df-convert:hover {\n",
              "      background-color: #434B5C;\n",
              "      box-shadow: 0px 1px 3px 1px rgba(0, 0, 0, 0.15);\n",
              "      filter: drop-shadow(0px 1px 2px rgba(0, 0, 0, 0.3));\n",
              "      fill: #FFFFFF;\n",
              "    }\n",
              "  </style>\n",
              "\n",
              "      <script>\n",
              "        const buttonEl =\n",
              "          document.querySelector('#df-1885aef5-89f8-4ef8-8949-da4e31ef54ae button.colab-df-convert');\n",
              "        buttonEl.style.display =\n",
              "          google.colab.kernel.accessAllowed ? 'block' : 'none';\n",
              "\n",
              "        async function convertToInteractive(key) {\n",
              "          const element = document.querySelector('#df-1885aef5-89f8-4ef8-8949-da4e31ef54ae');\n",
              "          const dataTable =\n",
              "            await google.colab.kernel.invokeFunction('convertToInteractive',\n",
              "                                                     [key], {});\n",
              "          if (!dataTable) return;\n",
              "\n",
              "          const docLinkHtml = 'Like what you see? Visit the ' +\n",
              "            '<a target=\"_blank\" href=https://colab.research.google.com/notebooks/data_table.ipynb>data table notebook</a>'\n",
              "            + ' to learn more about interactive tables.';\n",
              "          element.innerHTML = '';\n",
              "          dataTable['output_type'] = 'display_data';\n",
              "          await google.colab.output.renderOutput(dataTable, element);\n",
              "          const docLink = document.createElement('div');\n",
              "          docLink.innerHTML = docLinkHtml;\n",
              "          element.appendChild(docLink);\n",
              "        }\n",
              "      </script>\n",
              "    </div>\n",
              "  </div>\n",
              "  "
            ]
          },
          "metadata": {},
          "execution_count": 5
        }
      ],
      "source": [
        "Data.describe()"
      ]
    },
    {
      "cell_type": "markdown",
      "source": [
        "В строке *count* отображается количество непропущенных значений в каждом столбце."
      ],
      "metadata": {
        "id": "akSB6czJRAvK"
      }
    },
    {
      "cell_type": "markdown",
      "source": [
        "Основные статистики можно посмотреть и по категориальным колонкам.  \n",
        "Для этого в функцию `describe` нужно передать аргумент `include='object'`.\n",
        "\n",
        "Сделайте это."
      ],
      "metadata": {
        "id": "3SbQ5ynVRJQl"
      }
    },
    {
      "cell_type": "code",
      "execution_count": null,
      "metadata": {
        "id": "jiuXVlUcO6jE"
      },
      "outputs": [],
      "source": [
        "# ваш код здесь"
      ]
    },
    {
      "cell_type": "markdown",
      "metadata": {
        "id": "f23UBOGKO6jG"
      },
      "source": [
        "**Вопрос:** в скольких категориальных колонках есть пропуски?"
      ]
    },
    {
      "cell_type": "markdown",
      "source": [
        "### Столбец Sex"
      ],
      "metadata": {
        "id": "mBxQCgbKSm3q"
      }
    },
    {
      "cell_type": "markdown",
      "source": [
        "В столбце пол (`Sex`) три различных значения. Посмотрим на них."
      ],
      "metadata": {
        "id": "IBfxbDibgbuH"
      }
    },
    {
      "cell_type": "code",
      "source": [
        "Data['Sex'].value_counts()"
      ],
      "metadata": {
        "colab": {
          "base_uri": "https://localhost:8080/"
        },
        "id": "hcbI2DbeSrxt",
        "outputId": "9701035a-d1a7-4421-fa66-8bb1061f1a10"
      },
      "execution_count": null,
      "outputs": [
        {
          "output_type": "execute_result",
          "data": {
            "text/plain": [
              "male       574\n",
              "female     312\n",
              "unknown      5\n",
              "Name: Sex, dtype: int64"
            ]
          },
          "metadata": {},
          "execution_count": 8
        }
      ]
    },
    {
      "cell_type": "markdown",
      "metadata": {
        "id": "aLagxnJ8O6jK"
      },
      "source": [
        "Удалим пассажиров неизвестного пола, так как их всего *5*."
      ]
    },
    {
      "cell_type": "code",
      "execution_count": null,
      "metadata": {
        "id": "Ij_aUaOYO6jM"
      },
      "outputs": [],
      "source": [
        "Data = Data[Data['Sex'] != 'unknown']"
      ]
    },
    {
      "cell_type": "markdown",
      "source": [
        "Проверьте, что строки с неизвестным полом исчезли."
      ],
      "metadata": {
        "id": "PFpZ8rVHTStf"
      }
    },
    {
      "cell_type": "code",
      "source": [
        "# ваш код здесь"
      ],
      "metadata": {
        "id": "WrFZCI-bTbzH"
      },
      "execution_count": null,
      "outputs": []
    },
    {
      "cell_type": "markdown",
      "metadata": {
        "id": "TbDyF2hsO6jR"
      },
      "source": [
        "Признак `Sex` является категориальным, то есть содержит нечисловые значения. Для работы большинства алгоритмов необходимо переводить категории в числа.\n",
        "\n",
        "Закодировать значения столбца с двумя категориями можно следующим образом. Пусть в воображаемом столбце *animal* есть два значения: *cat* и *dog*. Их можно перевести в *0* и *1* при помощи функции `map`:\n",
        "\n",
        "`Data['animal'] = Data['animal'].map({'cat' : 1, 'dog' : 0})`\n"
      ]
    },
    {
      "cell_type": "markdown",
      "source": [
        "По аналогии закодируйте столбец `Sex` (*male* - *1*, *female* - *0*)."
      ],
      "metadata": {
        "id": "YBr8x_3iU5tg"
      }
    },
    {
      "cell_type": "code",
      "execution_count": null,
      "metadata": {
        "id": "TZYFvo3QO6jS"
      },
      "outputs": [],
      "source": [
        "# ваш код здесь"
      ]
    },
    {
      "cell_type": "markdown",
      "source": [
        "**Вопрос** посчитайте сумму значений в закодированном столбце `Sex`."
      ],
      "metadata": {
        "id": "k4367Q4AVj7u"
      }
    },
    {
      "cell_type": "code",
      "source": [
        "# ваш код здесь"
      ],
      "metadata": {
        "id": "lAdxODHiVpZ4"
      },
      "execution_count": null,
      "outputs": []
    },
    {
      "cell_type": "markdown",
      "metadata": {
        "id": "g0YUmU9PO6jU"
      },
      "source": [
        "Посмотрим, как влияет пол на выживаемость."
      ]
    },
    {
      "cell_type": "code",
      "execution_count": null,
      "metadata": {
        "id": "4sd1xHr7O6jU",
        "colab": {
          "base_uri": "https://localhost:8080/",
          "height": 295
        },
        "outputId": "814c7928-b571-4b9f-cf28-95365fe505fc"
      },
      "outputs": [
        {
          "output_type": "display_data",
          "data": {
            "text/plain": [
              "<Figure size 432x288 with 1 Axes>"
            ],
            "image/png": "[encoded data removed]"
          },
          "metadata": {
            "needs_background": "light"
          }
        }
      ],
      "source": [
        "sns.barplot(x='Sex', y='Survived', data=Data, palette='summer')\n",
        "plt.title('Sex - Survived')\n",
        "plt.show();"
      ]
    },
    {
      "cell_type": "markdown",
      "source": [
        "Гистограмму можно детализировать, добавив значение параметра `hue`."
      ],
      "metadata": {
        "id": "UVT85zUgVwh0"
      }
    },
    {
      "cell_type": "markdown",
      "metadata": {
        "id": "V7dwS1kvO6jr"
      },
      "source": [
        "### Столбец Pclass"
      ]
    },
    {
      "cell_type": "markdown",
      "source": [
        "Нарисуйте гистограмму выживаемости в зависимости от `Pclass`.  \n",
        "Используйте `barplot`."
      ],
      "metadata": {
        "id": "ce0vqUYYgXmH"
      }
    },
    {
      "cell_type": "code",
      "execution_count": null,
      "metadata": {
        "id": "kWxNwTP5O6js"
      },
      "outputs": [],
      "source": [
        "# ваш код здесь"
      ]
    },
    {
      "cell_type": "markdown",
      "source": [
        "**Вопрос:** пассажиры из какого класса выживали чаще всего?"
      ],
      "metadata": {
        "id": "17K_cGVoXcDd"
      }
    },
    {
      "cell_type": "markdown",
      "metadata": {
        "id": "Z0RnOVMlO6jW"
      },
      "source": [
        "Посмотрим, как влияет пол человека и класс билета (`Pclass`) на выживаемость"
      ]
    },
    {
      "cell_type": "code",
      "execution_count": null,
      "metadata": {
        "id": "M0ZTtDcXO6jX",
        "colab": {
          "base_uri": "https://localhost:8080/",
          "height": 295
        },
        "outputId": "b92851ec-85b5-4dbb-df7c-6a680665706f"
      },
      "outputs": [
        {
          "output_type": "display_data",
          "data": {
            "text/plain": [
              "<Figure size 432x288 with 1 Axes>"
            ],
            "image/png": "[encoded data removed]"
          },
          "metadata": {
            "needs_background": "light"
          }
        }
      ],
      "source": [
        "sns.barplot(x='Sex', y='Survived', hue='Pclass', data=Data, palette='autumn')\n",
        "plt.title('Sex - Survived')\n",
        "plt.show();"
      ]
    },
    {
      "cell_type": "markdown",
      "metadata": {
        "id": "q2X24lD8O6jh"
      },
      "source": [
        "### Столбец Embarked"
      ]
    },
    {
      "cell_type": "markdown",
      "source": [
        "**Вопрос** сколько различных значений принимает признак `Embarked`?"
      ],
      "metadata": {
        "id": "3MF_zEtSgVKV"
      }
    },
    {
      "cell_type": "code",
      "source": [
        "# ваш код здесь"
      ],
      "metadata": {
        "id": "RGqP7sEqWHBk"
      },
      "execution_count": null,
      "outputs": []
    },
    {
      "cell_type": "markdown",
      "source": [
        "Пока что мы не обсуждали, как переводить в числа категориальные признаки с больше, чем двумя категориями.  \n",
        "Поэтому давайте отбросим этот признак.\n",
        "\n",
        "Сделайте это (вам пригодится метод [`drop`](https://pandas.pydata.org/pandas-docs/stable/reference/api/pandas.DataFrame.drop.html))."
      ],
      "metadata": {
        "id": "OqR4bjy3WX4U"
      }
    },
    {
      "cell_type": "code",
      "execution_count": null,
      "metadata": {
        "id": "4HjvIMRCO6ji"
      },
      "outputs": [],
      "source": [
        "# ваш код здесь"
      ]
    },
    {
      "cell_type": "markdown",
      "metadata": {
        "id": "i6UOuUsBO6jj"
      },
      "source": [
        "### Столбец Age"
      ]
    },
    {
      "cell_type": "markdown",
      "source": [
        "Обработаем признак `Age`.\n",
        "\n",
        "Мы помним, что в этом признаке много пропусков."
      ],
      "metadata": {
        "id": "tJbctJlmgOtz"
      }
    },
    {
      "cell_type": "markdown",
      "metadata": {
        "id": "7__ctYReO6jk"
      },
      "source": [
        "Заполним пропуски медианным значением `Age`."
      ]
    },
    {
      "cell_type": "code",
      "execution_count": null,
      "metadata": {
        "id": "AI6tHQCsO6jl"
      },
      "outputs": [],
      "source": [
        "median_age = Data['Age'].median()\n",
        "\n",
        "Data['Age'].fillna(median_age, inplace=True)"
      ]
    },
    {
      "cell_type": "markdown",
      "metadata": {
        "id": "LG3Yp6pLO6jm"
      },
      "source": [
        "Нарисуем распределение возраста пассажиров."
      ]
    },
    {
      "cell_type": "code",
      "execution_count": null,
      "metadata": {
        "id": "Gi3QKt9CO6jn"
      },
      "outputs": [],
      "source": [
        "sns.displot(Data['Age'], kde=True)\n",
        "plt.show();"
      ]
    },
    {
      "cell_type": "markdown",
      "metadata": {
        "id": "YwyqXLpsO6jp"
      },
      "source": [
        "### Другие столбцы"
      ]
    },
    {
      "cell_type": "markdown",
      "source": [
        "Удалите признак `Fare`. Он сильно связан с признаком `Pclass`, поэтому нам не нужен."
      ],
      "metadata": {
        "id": "eBWNNXGEgIew"
      }
    },
    {
      "cell_type": "code",
      "execution_count": null,
      "metadata": {
        "scrolled": true,
        "id": "3TSWLErvO6jp"
      },
      "outputs": [],
      "source": [
        "# ваш код здесь"
      ]
    },
    {
      "cell_type": "markdown",
      "source": [
        "**Вопрос:** сколько на данный момент колонок в таблице `Data`?"
      ],
      "metadata": {
        "id": "fbob66dLXI8i"
      }
    },
    {
      "cell_type": "markdown",
      "metadata": {
        "id": "BXsWOZuZO6jw"
      },
      "source": [
        "Столбец `PassengerId` является категориальным и не несёт важной информации, удалите его.\n",
        "\n",
        "Столбцы `Ticket`, `Name` и `Cabin` в этот раз нам также не понадобятся. Удалите и их."
      ]
    },
    {
      "cell_type": "code",
      "execution_count": null,
      "metadata": {
        "id": "CucjtGlSO6jx"
      },
      "outputs": [],
      "source": [
        "# ваш код здесь"
      ]
    },
    {
      "cell_type": "markdown",
      "source": [
        "После минимальной обработки данных у нас получилась следующая таблица:"
      ],
      "metadata": {
        "id": "a3jstTjzYC_V"
      }
    },
    {
      "cell_type": "code",
      "execution_count": null,
      "metadata": {
        "id": "oapq8_ztO6jx",
        "colab": {
          "base_uri": "https://localhost:8080/",
          "height": 206
        },
        "outputId": "580ff570-357a-40a6-aaad-6b9f9b86b967"
      },
      "outputs": [
        {
          "output_type": "execute_result",
          "data": {
            "text/plain": [
              "   Survived  Pclass  Sex   Age  SibSp  Parch\n",
              "0         0       3    1  22.0      1      0\n",
              "1         1       1    0  38.0      1      0\n",
              "2         1       3    0  26.0      0      0\n",
              "3         1       1    0  35.0      1      0\n",
              "4         0       3    1  35.0      0      0"
            ],
            "text/html": [
              "\n",
              "  <div id=\"df-0915d8cc-5a2a-414a-a78a-192c44a77fff\">\n",
              "    <div class=\"colab-df-container\">\n",
              "      <div>\n",
              "<style scoped>\n",
              "    .dataframe tbody tr th:only-of-type {\n",
              "        vertical-align: middle;\n",
              "    }\n",
              "\n",
              "    .dataframe tbody tr th {\n",
              "        vertical-align: top;\n",
              "    }\n",
              "\n",
              "    .dataframe thead th {\n",
              "        text-align: right;\n",
              "    }\n",
              "</style>\n",
              "<table border=\"1\" class=\"dataframe\">\n",
              "  <thead>\n",
              "    <tr style=\"text-align: right;\">\n",
              "      <th></th>\n",
              "      <th>Survived</th>\n",
              "      <th>Pclass</th>\n",
              "      <th>Sex</th>\n",
              "      <th>Age</th>\n",
              "      <th>SibSp</th>\n",
              "      <th>Parch</th>\n",
              "    </tr>\n",
              "  </thead>\n",
              "  <tbody>\n",
              "    <tr>\n",
              "      <th>0</th>\n",
              "      <td>0</td>\n",
              "      <td>3</td>\n",
              "      <td>1</td>\n",
              "      <td>22.0</td>\n",
              "      <td>1</td>\n",
              "      <td>0</td>\n",
              "    </tr>\n",
              "    <tr>\n",
              "      <th>1</th>\n",
              "      <td>1</td>\n",
              "      <td>1</td>\n",
              "      <td>0</td>\n",
              "      <td>38.0</td>\n",
              "      <td>1</td>\n",
              "      <td>0</td>\n",
              "    </tr>\n",
              "    <tr>\n",
              "      <th>2</th>\n",
              "      <td>1</td>\n",
              "      <td>3</td>\n",
              "      <td>0</td>\n",
              "      <td>26.0</td>\n",
              "      <td>0</td>\n",
              "      <td>0</td>\n",
              "    </tr>\n",
              "    <tr>\n",
              "      <th>3</th>\n",
              "      <td>1</td>\n",
              "      <td>1</td>\n",
              "      <td>0</td>\n",
              "      <td>35.0</td>\n",
              "      <td>1</td>\n",
              "      <td>0</td>\n",
              "    </tr>\n",
              "    <tr>\n",
              "      <th>4</th>\n",
              "      <td>0</td>\n",
              "      <td>3</td>\n",
              "      <td>1</td>\n",
              "      <td>35.0</td>\n",
              "      <td>0</td>\n",
              "      <td>0</td>\n",
              "    </tr>\n",
              "  </tbody>\n",
              "</table>\n",
              "</div>\n",
              "      <button class=\"colab-df-convert\" onclick=\"convertToInteractive('df-0915d8cc-5a2a-414a-a78a-192c44a77fff')\"\n",
              "              title=\"Convert this dataframe to an interactive table.\"\n",
              "              style=\"display:none;\">\n",
              "        \n",
              "  <svg xmlns=\"http://www.w3.org/2000/svg\" height=\"24px\"viewBox=\"0 0 24 24\"\n",
              "       width=\"24px\">\n",
              "    <path d=\"M0 0h24v24H0V0z\" fill=\"none\"/>\n",
              "    <path d=\"M18.56 5.44l.94 2.06.94-2.06 2.06-.94-2.06-.94-.94-2.06-.94 2.06-2.06.94zm-11 1L8.5 8.5l.94-2.06 2.06-.94-2.06-.94L8.5 2.5l-.94 2.06-2.06.94zm10 10l.94 2.06.94-2.06 2.06-.94-2.06-.94-.94-2.06-.94 2.06-2.06.94z\"/><path d=\"M17.41 7.96l-1.37-1.37c-.4-.4-.92-.59-1.43-.59-.52 0-1.04.2-1.43.59L10.3 9.45l-7.72 7.72c-.78.78-.78 2.05 0 2.83L4 21.41c.39.39.9.59 1.41.59.51 0 1.02-.2 1.41-.59l7.78-7.78 2.81-2.81c.8-.78.8-2.07 0-2.86zM5.41 20L4 18.59l7.72-7.72 1.47 1.35L5.41 20z\"/>\n",
              "  </svg>\n",
              "      </button>\n",
              "      \n",
              "  <style>\n",
              "    .colab-df-container {\n",
              "      display:flex;\n",
              "      flex-wrap:wrap;\n",
              "      gap: 12px;\n",
              "    }\n",
              "\n",
              "    .colab-df-convert {\n",
              "      background-color: #E8F0FE;\n",
              "      border: none;\n",
              "      border-radius: 50%;\n",
              "      cursor: pointer;\n",
              "      display: none;\n",
              "      fill: #1967D2;\n",
              "      height: 32px;\n",
              "      padding: 0 0 0 0;\n",
              "      width: 32px;\n",
              "    }\n",
              "\n",
              "    .colab-df-convert:hover {\n",
              "      background-color: #E2EBFA;\n",
              "      box-shadow: 0px 1px 2px rgba(60, 64, 67, 0.3), 0px 1px 3px 1px rgba(60, 64, 67, 0.15);\n",
              "      fill: #174EA6;\n",
              "    }\n",
              "\n",
              "    [theme=dark] .colab-df-convert {\n",
              "      background-color: #3B4455;\n",
              "      fill: #D2E3FC;\n",
              "    }\n",
              "\n",
              "    [theme=dark] .colab-df-convert:hover {\n",
              "      background-color: #434B5C;\n",
              "      box-shadow: 0px 1px 3px 1px rgba(0, 0, 0, 0.15);\n",
              "      filter: drop-shadow(0px 1px 2px rgba(0, 0, 0, 0.3));\n",
              "      fill: #FFFFFF;\n",
              "    }\n",
              "  </style>\n",
              "\n",
              "      <script>\n",
              "        const buttonEl =\n",
              "          document.querySelector('#df-0915d8cc-5a2a-414a-a78a-192c44a77fff button.colab-df-convert');\n",
              "        buttonEl.style.display =\n",
              "          google.colab.kernel.accessAllowed ? 'block' : 'none';\n",
              "\n",
              "        async function convertToInteractive(key) {\n",
              "          const element = document.querySelector('#df-0915d8cc-5a2a-414a-a78a-192c44a77fff');\n",
              "          const dataTable =\n",
              "            await google.colab.kernel.invokeFunction('convertToInteractive',\n",
              "                                                     [key], {});\n",
              "          if (!dataTable) return;\n",
              "\n",
              "          const docLinkHtml = 'Like what you see? Visit the ' +\n",
              "            '<a target=\"_blank\" href=https://colab.research.google.com/notebooks/data_table.ipynb>data table notebook</a>'\n",
              "            + ' to learn more about interactive tables.';\n",
              "          element.innerHTML = '';\n",
              "          dataTable['output_type'] = 'display_data';\n",
              "          await google.colab.output.renderOutput(dataTable, element);\n",
              "          const docLink = document.createElement('div');\n",
              "          docLink.innerHTML = docLinkHtml;\n",
              "          element.appendChild(docLink);\n",
              "        }\n",
              "      </script>\n",
              "    </div>\n",
              "  </div>\n",
              "  "
            ]
          },
          "metadata": {},
          "execution_count": 29
        }
      ],
      "source": [
        "Data.head()"
      ]
    },
    {
      "cell_type": "markdown",
      "metadata": {
        "id": "oioGP8LGO6jy"
      },
      "source": [
        "## Исследование признаков"
      ]
    },
    {
      "cell_type": "markdown",
      "metadata": {
        "id": "8FzZ4MpaO6jy"
      },
      "source": [
        "Нарисуйте матрицу корреляций столбцов между собой."
      ]
    },
    {
      "cell_type": "code",
      "execution_count": null,
      "metadata": {
        "id": "lqgLaN5iO6j0"
      },
      "outputs": [],
      "source": [
        "# ваш код здесь"
      ]
    },
    {
      "cell_type": "markdown",
      "source": [
        "**Вопрос:** какой столбец сильнее всего коррелирует с целевой переменной `Survived`?"
      ],
      "metadata": {
        "id": "Zq1QivChYysn"
      }
    },
    {
      "cell_type": "markdown",
      "metadata": {
        "id": "WZGvUa2KO6j0"
      },
      "source": [
        "Посмотрим на попарные зависимости некоторых признаков."
      ]
    },
    {
      "cell_type": "code",
      "execution_count": null,
      "metadata": {
        "id": "NsQpoZKkO6j1"
      },
      "outputs": [],
      "source": [
        "g = sns.pairplot(\n",
        "    Data,\n",
        "    hue='Survived',\n",
        "    palette = 'seismic',\n",
        "    height=4,\n",
        "    diag_kind = 'kde',\n",
        "    diag_kws=dict(fill=True),\n",
        "    plot_kws=dict(s=50)\n",
        "    )\n",
        "\n",
        "g.set(xticklabels=[]);"
      ]
    },
    {
      "cell_type": "markdown",
      "metadata": {
        "id": "yhsy6aIVO6j6"
      },
      "source": [
        "## Бонус (не проверяется)"
      ]
    },
    {
      "cell_type": "markdown",
      "source": [
        "Мы не используем всю информацию о данных, в частности, не используем текстовые данные. Также из матрицы корреляций мы видим, что признаки `Parch` и `SibSp` слабо коррелируют с выживаемостью (`Survived`). Можно сконструировать новые признаки, чтобы решить эти вопросы.\n",
        "\n",
        "Попробуйте сделать следующее.\n",
        "\n",
        "1) Создайте признак `NameLen` и запишите в него длину имени (`Name`).\n",
        "\n",
        "2) Создайте признак `FamilySize`, равный *Parch + SibSp + 1*. Зачем добавлять 1?\n",
        "\n",
        "3) Создайте признак `IsAlone`, который показывает, путешествовал человек один или с семьей."
      ],
      "metadata": {
        "id": "4yVc_71rgEcF"
      }
    },
    {
      "cell_type": "code",
      "execution_count": null,
      "metadata": {
        "id": "degMwmWlO6j7"
      },
      "outputs": [],
      "source": [
        "# ваш код здесь"
      ]
    },
    {
      "cell_type": "markdown",
      "metadata": {
        "id": "3MynT1M3O6j7"
      },
      "source": [
        "Посмотрите, как коррелируют новые признаки со столбцом `Survived`."
      ]
    },
    {
      "cell_type": "code",
      "execution_count": null,
      "metadata": {
        "id": "l4tssRGvO6j8"
      },
      "outputs": [],
      "source": [
        "# ваш код здесь"
      ]
    },
    {
      "cell_type": "markdown",
      "metadata": {
        "id": "ThTo8xA2O6j8"
      },
      "source": [
        "Можно извлечь и другую полезную информацию из данных путём конструирования новых признаков.\n",
        "\n",
        "Придумайте ещё новые осмысленные признаки. Проверьте, как они коррелируют с выживаемостью."
      ]
    },
    {
      "cell_type": "code",
      "execution_count": null,
      "metadata": {
        "id": "_NurzlouO6j9"
      },
      "outputs": [],
      "source": [
        "# ваш код здесь"
      ]
    },
    {
      "cell_type": "markdown",
      "metadata": {
        "id": "GyCYn6OxO6kA"
      },
      "source": [
        "Мы провели  однофакторный анализ данных и увидели, какие признаки сильно влияют на выживаемость, а какие нет.\n",
        "\n",
        "Мы видим, что больше всего на выживаемость влияет пол пассажира.\n"
      ]
    },
    {
      "cell_type": "markdown",
      "source": [
        "### Наша собственная модель"
      ],
      "metadata": {
        "id": "ocNHZPhHf_uV"
      }
    },
    {
      "cell_type": "markdown",
      "source": [
        "Напишем свою модель, предсказывающую выживаемость только по признаку `Sex`."
      ],
      "metadata": {
        "id": "ny6X6QFigBQE"
      }
    },
    {
      "cell_type": "code",
      "execution_count": null,
      "metadata": {
        "id": "zHzuGg8IO6kB"
      },
      "outputs": [],
      "source": [
        "def prediction(x):\n",
        "    if x.Sex == 1:\n",
        "        return 0\n",
        "    return 1"
      ]
    },
    {
      "cell_type": "markdown",
      "source": [
        "Посчитаем долю правильных ответов нашей модели."
      ],
      "metadata": {
        "id": "6aigbxCtaK9W"
      }
    },
    {
      "cell_type": "code",
      "execution_count": null,
      "metadata": {
        "id": "Ffxd86aAO6kB"
      },
      "outputs": [],
      "source": [
        "from sklearn.metrics import accuracy_score\n",
        "\n",
        "pred = Data.apply(lambda x: prediction(x), axis=1)\n",
        "\n",
        "accuracy_score(Data['Survived'], pred)"
      ]
    }
  ],
  "metadata": {
    "kernelspec": {
      "display_name": "Python 3",
      "language": "python",
      "name": "python3"
    },
    "language_info": {
      "codemirror_mode": {
        "name": "ipython",
        "version": 3
      },
      "file_extension": ".py",
      "mimetype": "text/x-python",
      "name": "python",
      "nbconvert_exporter": "python",
      "pygments_lexer": "ipython3",
      "version": "3.7.6"
    },
    "colab": {
      "provenance": [],
      "include_colab_link": true
    }
  },
  "nbformat": 4,
  "nbformat_minor": 0
}